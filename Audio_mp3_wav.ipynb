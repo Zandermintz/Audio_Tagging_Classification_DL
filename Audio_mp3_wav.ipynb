{
 "cells": [
  {
   "cell_type": "code",
   "execution_count": null,
   "metadata": {},
   "outputs": [],
   "source": [
    "!pip install numpy\n",
    "!pip install pandas\n",
    "!pip install matplotlib\n",
    "!pip install transformers\n",
    "!pip install torch\n",
    "!pip install librosa\n",
    "!pip install sklearn\n",
    "!pip install pydub\n",
    "\n",
    "#ffmpeg is a dependency for pydub. Can install at the system level with:\n",
    "# brew install ffmpeg"
   ]
  },
  {
   "cell_type": "markdown",
   "metadata": {},
   "source": [
    "### Directory Management to work with Audio Data files"
   ]
  },
  {
   "cell_type": "code",
   "execution_count": null,
   "metadata": {},
   "outputs": [],
   "source": [
    "# combine the zip files into single zip file\n",
    "!cat mp3.zip.* > single_mp3.zip\n",
    "\n",
    "# unzip the mp3 files\n",
    "!unzip mp3.zip\n",
    "\n",
    "#move all mp3 files into mp3 folder\n",
    "!find . -type f -name \"*.mp3\" -exec mv {} ./mp3/ \\;\n",
    "\n",
    "#remove all zip files\n",
    "! rm -r 0 1 2 3 4 5 6 7 8 9 a b c d e f"
   ]
  },
  {
   "cell_type": "markdown",
   "metadata": {},
   "source": [
    "### Converting Audio in MP3 to WAV"
   ]
  },
  {
   "cell_type": "code",
   "execution_count": null,
   "metadata": {},
   "outputs": [],
   "source": [
    "#Converting mp3 files to wav files\n",
    "\n",
    "import os\n",
    "from pydub import AudioSegment\n",
    "\n",
    "# Directory where mp3 files are stored\n",
    "mp3_dir = './mp3'\n",
    "\n",
    "#Directory where wav files will be saved\n",
    "wav_dir = './wav'\n",
    "\n",
    "#Checking to see if wav directory exists\n",
    "os.makedirs(wav_dir, exist_ok=True)\n",
    "\n",
    "#counter to keep track of audio files\n",
    "processed = 0\n",
    "\n",
    "#Loop through all mp3 files in mp3 directory\n",
    "for mp3 in os.listdir(mp3_dir):\n",
    "    if processed >= 26000:\n",
    "        break #stop processing files after the number above has been processed\n",
    "    \n",
    "    if mp3.endswith('.mp3'):\n",
    "        mp3_path = os.path.join(mp3_dir, mp3)\n",
    "        try:\n",
    "            #Loading mp3 file\n",
    "            audio = AudioSegment.from_mp3(mp3_path)\n",
    "            \n",
    "            #Create the output wav file path by changing the extension from mp3 to wav\n",
    "            wav_file = mp3.replace('.mp3', '.wav')\n",
    "            wav_path = os.path.join(wav_dir, wav_file)\n",
    "\n",
    "            #Export audio as wav file\n",
    "            audio.export(wav_path, format='wav')\n",
    "            print(f'Converted: {mp3} -> {wav_file}')\n",
    "            \n",
    "            #Increment counter\n",
    "            processed += 1\n",
    "        except Exception as e:\n",
    "            print(f'Error converting: {mp3}: {str(e)}')"
   ]
  },
  {
   "cell_type": "markdown",
   "metadata": {},
   "source": [
    "### Checking the distribution of the label data"
   ]
  },
  {
   "cell_type": "code",
   "execution_count": null,
   "metadata": {},
   "outputs": [],
   "source": [
    "import pandas as pd\n",
    "import matplotlib.pyplot as plt\n",
    "\n",
    "annotations = pd.read_csv('./annotations_final.csv', sep='\\t')\n",
    "clip_data = pd.read_csv('./clip_info_final.csv', sep= '\\t')\n",
    "\n",
    "#Check shape of data\n",
    "\n",
    "# !find ./wav/ -type f | wc -l \n",
    "#print(annotations.shape)\n",
    "# print(clip_data.shape)\n",
    "\n",
    "#for each column, count the number of 1s and store in a dictionary\n",
    "\n",
    "annotations_dict = {}\n",
    "for column in annotations.columns:\n",
    "    annotations_dict[column] = annotations[column].sum()\n",
    "    \n",
    "#remove first and last column    \n",
    "del annotations_dict['clip_id'], annotations_dict['mp3_path']\n",
    "\n",
    "#visualize distribution of variables in annotations\n",
    "plt.bar(annotations_dict.keys(), annotations_dict.values())\n",
    "\n",
    "#make the plot bigger\n",
    "plt.rcParams['figure.figsize'] = [50, 10]\n",
    "\n",
    "#rotate x axis labels\n",
    "plt.xticks(rotation=90)\n",
    "#make font size bigger\n",
    "plt.rcParams.update({'font.size': 21})\n",
    "#change font \n",
    "plt.rcParams['font.family'] = 'sans-serif'\n",
    "plt.show()\n"
   ]
  },
  {
   "cell_type": "markdown",
   "metadata": {},
   "source": [
    "### Make sure paths for annotations and text metadata match with audio directory. Also that the file types are correct."
   ]
  },
  {
   "cell_type": "code",
   "execution_count": null,
   "metadata": {},
   "outputs": [],
   "source": [
    "def clean_path(file):\n",
    "    '''\n",
    "    To clean the path of the file to merge the datasets\n",
    "    '''\n",
    "    file['mp3_path'] = file['mp3_path'] = 'mp3/' + file['mp3_path'].str.split('/').str[1] #replace the path with the correct path\n",
    "    file['mp3_path'] = file['mp3_path'].str.replace('.mp3', '.wav') #change the file type to .wav\n",
    "\n",
    "    #print the first few rows to check\n",
    "    print(file['mp3_path'].head(3))\n",
    "    \n",
    "    return file\n",
    "\n",
    "clip_data_clean = clean_path(clip_data)\n",
    "annotations_clean = clean_path(annotations)\n",
    "\n",
    "#output the new clip_data_clean into csv to inspect\n",
    "\n",
    "clip_data_clean.to_csv('clip_data_clean.csv', index=False)\n",
    "annotations_clean.to_csv('annotations_clean.csv', index=False)"
   ]
  }
 ],
 "metadata": {
  "language_info": {
   "name": "python"
  }
 },
 "nbformat": 4,
 "nbformat_minor": 2
}
